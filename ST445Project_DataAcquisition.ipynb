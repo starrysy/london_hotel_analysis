{
 "cells": [
  {
   "cell_type": "markdown",
   "metadata": {
    "id": "ZkdCoz906qCi"
   },
   "source": [
    "# Data Acquisition\n",
    "28 Jan 2023"
   ]
  },
  {
   "cell_type": "markdown",
   "metadata": {
    "id": "brn-8e-p8IVB"
   },
   "source": [
    "In this project, the [Booking.com API available on RapidAPI](https://rapidapi.com/tipsters/api/booking-com/details) to acquire hotel data for London. Basically, an HTTP GET request is sent to the API to retrieve information. The resulting data is concatenated to create a single list of hotels. Finally, the resulting hotel data is written to a JSON file named `data.json` for the purpose of analysis.\n",
    "\n",
    "---"
   ]
  },
  {
   "cell_type": "code",
   "execution_count": null,
   "metadata": {
    "id": "PHQEZh9K6qCg"
   },
   "outputs": [],
   "source": [
    "# import necessary libraries\n",
    "import requests\n",
    "import collections\n",
    "import json"
   ]
  },
  {
   "cell_type": "markdown",
   "metadata": {
    "id": "V7MAdvvG9IVK"
   },
   "source": [
    "To make a request to the Booking.com API, specific headers need to be included, such as the RapidAPI key and host, which are defined in the below headers variable. These headers contain the account information required by the API, which could be obatined from the [website](https://rapidapi.com/tipsters/api/booking-com/details) for free. It should be noted that the API has a limit of 550 calls per month for the free plan."
   ]
  },
  {
   "cell_type": "code",
   "execution_count": null,
   "metadata": {
    "id": "i5uNMkDb6qCi"
   },
   "outputs": [],
   "source": [
    "# account information\n",
    "headers = {\n",
    "\t\"X-RapidAPI-Key\": \"ff51bcfd91mshd10c23b2d26fe57p158509jsna62e43824f9c\",\n",
    "\t\"X-RapidAPI-Host\": \"booking-com.p.rapidapi.com\"\n",
    "}"
   ]
  },
  {
   "cell_type": "markdown",
   "metadata": {
    "id": "h8P40gom6qCi"
   },
   "source": [
    "Since the booking.com only shows the first 1000 results on the searching pages, we would get the data step by step through filtering the star rating of the hotels. Specifically, a `get_hotel` function is defined with the input of `star_rating` to construct the API request URL and query parameters, such as the destination ID, check-in and check-out dates, the number of adults and rooms, and other filters such as the currency and the hotel category (i.e., star rating). "
   ]
  },
  {
   "cell_type": "markdown",
   "metadata": {
    "id": "HyXQH3L9ANDJ"
   },
   "source": [
    "Note that the data is acquired on 28 Jan 2023, with the check-in and check-out date being 1 March 2023 and 2 March 2023 respectively (One night stay). Different specification will lead to different data and analysis."
   ]
  },
  {
   "cell_type": "code",
   "execution_count": null,
   "metadata": {
    "id": "_ffjncAz6qCi"
   },
   "outputs": [],
   "source": [
    "def get_hotel(star_rating):\n",
    "    url = \"https://booking-com.p.rapidapi.com/v1/hotels/search\"\n",
    "\n",
    "    querystring = {\"dest_id\":\"-2601889\",\n",
    "                   \"order_by\":\"popularity\",\n",
    "                   \"filter_by_currency\":\"GBP\",\n",
    "                   \"adults_number\":\"2\",\n",
    "                   \"room_number\":\"1\",\n",
    "                   \"checkout_date\":\"2023-03-02\",\n",
    "                   \"units\":\"metric\",\n",
    "                   \"checkin_date\":\"2023-03-01\",\n",
    "                   \"dest_type\":\"city\",\n",
    "                   \"locale\":\"en-gb\",\n",
    "                   \"include_adjacency\":\"false\"}\n",
    "\n",
    "    querystring[\"categories_filter_ids\"] = f'class::{star_rating}'\n",
    "\n",
    "    response = requests.request(\"GET\", url, headers=headers, params=querystring)\n",
    "    r = response.json()\n",
    "\n",
    "    n_hotels = r['count']\n",
    "    \n",
    "    hotel_list = []\n",
    "\n",
    "    for i in range((n_hotels-1)//20+1): \n",
    "        querystring[\"page_number\"] = f\"{i}\"\n",
    "        response = requests.request(\"GET\", url, headers=headers, params=querystring)\n",
    "        r = response.json()\n",
    "\n",
    "        for hotel in r[\"result\"]:\n",
    "            hotel_list.append(hotel)\n",
    "    \n",
    "    return hotel_list"
   ]
  },
  {
   "cell_type": "code",
   "execution_count": null,
   "metadata": {
    "id": "3dn0-pM06qCj"
   },
   "outputs": [],
   "source": [
    "# Get hotel id sperately by star rating\n",
    "hotel_5_star = get_hotel(5)\n",
    "hotel_4_star = get_hotel(4)\n",
    "hotel_3_star = get_hotel(3)\n",
    "hotel_2_star = get_hotel(2)\n",
    "hotel_1_star = get_hotel(1)\n",
    "hotel_unrated = get_hotel(0)\n",
    "\n",
    "# Concatenate all lists\n",
    "hotel_list = hotel_5_star + hotel_4_star + hotel_3_star + hotel_2_star + hotel_1_star + hotel_unrated"
   ]
  },
  {
   "cell_type": "code",
   "execution_count": null,
   "metadata": {
    "id": "ZDjpL8Vg6qCj",
    "outputId": "d376593c-6119-44c2-e3d0-aa142afd1e38"
   },
   "outputs": [
    {
     "data": {
      "text/plain": [
       "1813"
      ]
     },
     "execution_count": 58,
     "metadata": {},
     "output_type": "execute_result"
    }
   ],
   "source": [
    "len(hotel_list)"
   ]
  },
  {
   "cell_type": "code",
   "execution_count": null,
   "metadata": {
    "id": "wvVXCaKe6qCj"
   },
   "outputs": [],
   "source": [
    "# write a json file\n",
    "with open('data/data.json', 'w') as f:\n",
    "    json.dump(hotel_list, f)"
   ]
  }
 ],
 "metadata": {
  "colab": {
   "provenance": []
  },
  "kernelspec": {
   "display_name": "Python 3",
   "language": "python",
   "name": "python3"
  },
  "language_info": {
   "codemirror_mode": {
    "name": "ipython",
    "version": 3
   },
   "file_extension": ".py",
   "mimetype": "text/x-python",
   "name": "python",
   "nbconvert_exporter": "python",
   "pygments_lexer": "ipython3",
   "version": "3.8.5"
  }
 },
 "nbformat": 4,
 "nbformat_minor": 1
}
