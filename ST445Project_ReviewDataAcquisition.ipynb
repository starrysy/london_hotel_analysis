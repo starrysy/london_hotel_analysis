{
 "cells": [
  {
   "cell_type": "markdown",
   "metadata": {},
   "source": [
    "# Hotel Review Data Acquision using API "
   ]
  },
  {
   "cell_type": "markdown",
   "metadata": {},
   "source": [
    "Collected by this API ( https://rapidapi.com/tipsters/api/booking-com ) using the **Reviews of the hotel** endpoint on 18 February."
   ]
  },
  {
   "cell_type": "code",
   "execution_count": 5,
   "metadata": {},
   "outputs": [],
   "source": [
    "import json\n",
    "# read a json file\n",
    "# The hotel_ids_for_reviews.json file includes a hotel_id list of these 400 hotels. It was used to retrieve hotel review data through API (hotel_id is a parameter in an API call). More detailed information/codes about how to select these 400 hotels can be found at the beginning of the Hotel Review Analysis section of our main notebook\n",
    "f = open('data/hotel_ids_for_reviews.json')\n",
    "hotel_ids_for_reviews = json.load(f)\n",
    "f.close()"
   ]
  },
  {
   "cell_type": "code",
   "execution_count": 7,
   "metadata": {},
   "outputs": [
    {
     "data": {
      "text/plain": [
       "400"
      ]
     },
     "execution_count": 7,
     "metadata": {},
     "output_type": "execute_result"
    }
   ],
   "source": [
    "len(hotel_ids_for_reviews)"
   ]
  },
  {
   "cell_type": "code",
   "execution_count": 14,
   "metadata": {},
   "outputs": [],
   "source": [
    "import requests\n",
    "review_list = []\n",
    "\n",
    "url = \"https://booking-com.p.rapidapi.com/v1/hotels/reviews\"\n",
    "headers = {\n",
    "\t\"X-RapidAPI-Key\": \"16c8eb69demsh02fccdb213646c1p10f828jsnda2a0d23d8cb\", #Update API key if you need to test \n",
    "\t\"X-RapidAPI-Host\": \"booking-com.p.rapidapi.com\"\n",
    "}\n",
    "querystring = {\"locale\":\"en-gb\",\"sort_type\":\"SORT_MOST_RELEVANT\",\"language_filter\":\"en-gb\"}\n",
    "\n",
    "for hid in hotel_ids_for_reviews:\n",
    "    querystring[\"hotel_id\"] = f\"{hid}\"\n",
    "    response = requests.request(\"GET\", url, headers=headers, params=querystring)\n",
    "    r = response.json()\n",
    "    for review in r['result']:\n",
    "        review_list.append(review)\n",
    "\n"
   ]
  },
  {
   "cell_type": "code",
   "execution_count": 15,
   "metadata": {},
   "outputs": [
    {
     "data": {
      "text/plain": [
       "10000"
      ]
     },
     "execution_count": 15,
     "metadata": {},
     "output_type": "execute_result"
    }
   ],
   "source": [
    "len(review_list)"
   ]
  },
  {
   "cell_type": "code",
   "execution_count": 16,
   "metadata": {},
   "outputs": [],
   "source": [
    "with open('data/review_data.json', 'w') as f:\n",
    "    json.dump(review_list, f)"
   ]
  },
  {
   "cell_type": "code",
   "execution_count": null,
   "metadata": {},
   "outputs": [],
   "source": []
  }
 ],
 "metadata": {
  "kernelspec": {
   "display_name": "Python 3",
   "language": "python",
   "name": "python3"
  },
  "language_info": {
   "codemirror_mode": {
    "name": "ipython",
    "version": 3
   },
   "file_extension": ".py",
   "mimetype": "text/x-python",
   "name": "python",
   "nbconvert_exporter": "python",
   "pygments_lexer": "ipython3",
   "version": "3.8.5"
  }
 },
 "nbformat": 4,
 "nbformat_minor": 4
}
